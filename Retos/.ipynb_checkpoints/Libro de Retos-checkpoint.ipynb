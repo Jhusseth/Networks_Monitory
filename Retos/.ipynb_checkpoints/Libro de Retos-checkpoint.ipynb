{
 "cells": [
  {
   "cell_type": "markdown",
   "metadata": {},
   "source": [
    "# Libro de retos"
   ]
  },
  {
   "cell_type": "markdown",
   "metadata": {},
   "source": [
    "## Reto 1 : Encriptacion Cesar"
   ]
  },
  {
   "cell_type": "markdown",
   "metadata": {},
   "source": [
    "Un cliente desea enviar una palabra cualquiera a un servidor. Este debera encriptar la palabra usando **Encriptacion cesar**, bajo una clave random (del 1-20). Una vez encriptada, debe ser enviada la palabra resultante al cliente, pero anexandole la clave que fue usada en el cesar, encriptada en hexadecimal (utilice google para buscar herramientas de encriptacion en hexadecimal). \n",
    "\n",
    "**FLAG** : Screenshot de la encriptacion exitosa. Debe evidenciarse la palabra original, mas la clave en hexadecimal + la palabra resultante + screenshot del desencriptado de la clave en hexadecimal, evidenciandose que al restarle ese valor a la palabra resultante, vuelva a la original."
   ]
  },
  {
   "cell_type": "markdown",
   "metadata": {},
   "source": [
    "## Reto 2 : Sync en Hilos\n"
   ]
  },
  {
   "cell_type": "markdown",
   "metadata": {},
   "source": [
    "De acuerdo con la explicacion dada por el monitor a cargo, usted debera implementar una solucion que le permita syncronizar los hilos, de tal forma que la variable global se incremente dependiendo del hilo que se coloque en ejecucion.\n",
    "\n",
    "**FLAG**: ScreenShot evidenciando el codigo + Respuesta exitosa por consola\n",
    "\n",
    "**Validez** : Antes de la **SEMANA 5**"
   ]
  },
  {
   "cell_type": "markdown",
   "metadata": {},
   "source": [
    "# Reto 3: TCP Repository Remoto"
   ]
  },
  {
   "cell_type": "markdown",
   "metadata": {},
   "source": [
    "Nuestro cliente ha deseado que el repositorio remoto pueda ser consultado remotamente. Para ello desea que conecte dos equipos y evidencie que puede traer un archivo de uno al otro\n",
    "\n",
    "**Flag** : Screenshot de las ip de ambos equipos impresos por la consola de java + Videoclip del funcionamiento entre ambos equipos"
   ]
  },
  {
   "cell_type": "markdown",
   "metadata": {},
   "source": []
  },
  {
   "cell_type": "markdown",
   "metadata": {},
   "source": []
  },
  {
   "cell_type": "markdown",
   "metadata": {},
   "source": []
  },
  {
   "cell_type": "markdown",
   "metadata": {},
   "source": []
  },
  {
   "cell_type": "markdown",
   "metadata": {},
   "source": []
  },
  {
   "cell_type": "markdown",
   "metadata": {},
   "source": []
  },
  {
   "cell_type": "markdown",
   "metadata": {},
   "source": []
  },
  {
   "cell_type": "markdown",
   "metadata": {},
   "source": []
  }
 ],
 "metadata": {
  "kernelspec": {
   "display_name": "Python 3",
   "language": "python",
   "name": "python3"
  },
  "language_info": {
   "codemirror_mode": {
    "name": "ipython",
    "version": 3
   },
   "file_extension": ".py",
   "mimetype": "text/x-python",
   "name": "python",
   "nbconvert_exporter": "python",
   "pygments_lexer": "ipython3",
   "version": "3.7.1"
  }
 },
 "nbformat": 4,
 "nbformat_minor": 2
}
